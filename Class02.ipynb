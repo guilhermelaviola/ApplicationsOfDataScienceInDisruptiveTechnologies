{
  "nbformat": 4,
  "nbformat_minor": 0,
  "metadata": {
    "colab": {
      "provenance": [],
      "authorship_tag": "ABX9TyP5DHHjpfjQKk3p/Nbbn6mP",
      "include_colab_link": true
    },
    "kernelspec": {
      "name": "python3",
      "display_name": "Python 3"
    },
    "language_info": {
      "name": "python"
    }
  },
  "cells": [
    {
      "cell_type": "markdown",
      "metadata": {
        "id": "view-in-github",
        "colab_type": "text"
      },
      "source": [
        "<a href=\"https://colab.research.google.com/github/guilhermelaviola/ApplicationsOfDataScienceInDisruptiveTechnologies/blob/main/Class02.ipynb\" target=\"_parent\"><img src=\"https://colab.research.google.com/assets/colab-badge.svg\" alt=\"Open In Colab\"/></a>"
      ]
    },
    {
      "cell_type": "markdown",
      "source": [
        "## **Correlation-based algorithms**\n",
        "Uses statistical correlation to make decisions, such as in feature selection, where it identifies features most related to the target variable while minimizing redundancy between features. Other applications include pattern recognition in image processing, using correlation to find matching templates, and recommendation systems, using correlation to measure user or item similarity. These algorithms measure the relationship between two or more variables to identify similarities or differences."
      ],
      "metadata": {
        "id": "EVeMRbSdIcJ9"
      }
    },
    {
      "cell_type": "code",
      "execution_count": null,
      "metadata": {
        "id": "an0-qxDiHlZx"
      },
      "outputs": [],
      "source": [
        "# Importing all the necessary libraries:\n",
        "import cv2\n",
        "import matplotlib.pyplot as plt"
      ]
    },
    {
      "cell_type": "code",
      "source": [
        "# Function to display images in Colab:\n",
        "def display_image(frame):\n",
        "    img_rgb = cv2.cvtColor(frame, cv2.COLOR_BGR2RGB)\n",
        "    plt.imshow(img_rgb)\n",
        "    plt.axis('off')\n",
        "    plt.show()\n",
        "\n",
        "# Getting the name of the loaded video:\n",
        "video_path = list(uploaded.keys())[0]\n",
        "cap = cv2.VideoCapture(video_path)\n",
        "\n",
        "# Reading the first video frame:\n",
        "ret, frame = cap.read()"
      ],
      "metadata": {
        "id": "Yp8iBwNUHzld"
      },
      "execution_count": null,
      "outputs": []
    },
    {
      "cell_type": "markdown",
      "source": [
        "## **Regression-based algorithms**\n",
        "Subset of machine learning algorithms that predict a continuous output variable based on one or more input features. Regression aims to model the relationship between the dependent variable (output) and one or more independent variables (inputs)."
      ],
      "metadata": {
        "id": "Rz4gMHnlIrdp"
      }
    },
    {
      "cell_type": "code",
      "source": [
        "# Função para exibir imagens no Colab\n",
        "def exibir_imagem(frame):\n",
        "    img_rgb = cv2.cvtColor(frame, cv2.COLOR_BGR2RGB)\n",
        "    plt.imshow(img_rgb)\n",
        "    plt.axis('off')\n",
        "    plt.show()\n",
        "\n",
        "# Loading video with OpenCV:\n",
        "cap = cv2.VideoCapture(\"vtest.avi\")  # Replace it with the video path"
      ],
      "metadata": {
        "id": "Qg7-fSx7I0_e"
      },
      "execution_count": null,
      "outputs": []
    },
    {
      "cell_type": "code",
      "source": [
        "# Ler o primeiro quadro do vídeo\n",
        "ret, frame = cap.read()\n",
        "if not ret:\n",
        "    print(\"Erro ao carregar o vídeo.\")\n",
        "else:\n",
        "    # Definir uma Região de Interesse (ROI) manualmente\n",
        "    h, w, _ = frame.shape\n",
        "    roi = (int(w/4), int(h/4), int(w/2), int(h/2))  # ROI maior para rastreamento\n",
        "\n",
        "    # Exibir o primeiro quadro com a ROI\n",
        "    p1 = (int(roi[0]), int(roi[1]))\n",
        "    p2 = (int(roi[0] + roi[2]), int(roi[1] + roi[3]))\n",
        "    cv2.rectangle(frame, p1, p2, (255, 0, 0), 2, 1)\n",
        "    exibir_imagem(frame)\n",
        "\n",
        "    # Inicializar o rastreador MOSSE\n",
        "    tracker = cv2.legacy.TrackerMOSSE_create()\n",
        "\n",
        "    # Inicializar o rastreador com o primeiro quadro e a ROI\n",
        "    tracker.init(frame, roi)\n",
        "\n",
        "    # Rastrear o objeto no vídeo\n",
        "    while True:\n",
        "        ret, frame = cap.read()\n",
        "        if not ret:\n",
        "            break\n",
        "\n",
        "        # Atualizar o rastreador\n",
        "        ok, bbox = tracker.update(frame)\n",
        "\n",
        "        if ok:\n",
        "            # Desenhar a caixa delimitadora se o rastreamento for bem-sucedido\n",
        "            p1 = (int(bbox[0]), int(bbox[1]))\n",
        "            p2 = (int(bbox[0] + bbox[2]), int(bbox[1] + bbox[3]))\n",
        "            cv2.rectangle(frame, p1, p2, (255, 0, 0), 2, 1)\n",
        "        else:\n",
        "            # Exibir mensagem de falha no rastreamento\n",
        "            cv2.putText(frame, \"Falha no rastreamento\", (100, 80), cv2.FONT_HERSHEY_SIMPLEX, 0.75, (0, 0, 255), 2)\n",
        "\n",
        "        # Exibir o quadro atualizado\n",
        "        exibir_imagem(frame)\n",
        "\n",
        "    cap.release()"
      ],
      "metadata": {
        "id": "hl-TTHPdJIU_"
      },
      "execution_count": null,
      "outputs": []
    }
  ]
}